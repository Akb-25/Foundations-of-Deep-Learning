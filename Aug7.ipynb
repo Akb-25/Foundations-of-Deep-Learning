{
 "cells": [
  {
   "cell_type": "code",
   "execution_count": 1,
   "id": "be0b0775",
   "metadata": {},
   "outputs": [],
   "source": [
    "import math\n",
    "\n",
    "def sigmoid(x):\n",
    "    return 1/(1+math.exp(-x))"
   ]
  },
  {
   "cell_type": "code",
   "execution_count": 9,
   "id": "4654a6a6",
   "metadata": {
    "scrolled": true
   },
   "outputs": [
    {
     "name": "stdout",
     "output_type": "stream",
     "text": [
      "0.2689414213699951\n"
     ]
    }
   ],
   "source": [
    "print(sigmoid(-1))"
   ]
  },
  {
   "cell_type": "code",
   "execution_count": 30,
   "id": "4ddfedc2",
   "metadata": {},
   "outputs": [],
   "source": [
    "def np_sigmoid(arr):\n",
    "    return 1/(1+np.exp(-arr))"
   ]
  },
  {
   "cell_type": "code",
   "execution_count": 31,
   "id": "35f6c3dc",
   "metadata": {
    "scrolled": false
   },
   "outputs": [
    {
     "data": {
      "text/plain": [
       "array([0.73105858, 0.88079708, 0.95257413])"
      ]
     },
     "execution_count": 31,
     "metadata": {},
     "output_type": "execute_result"
    }
   ],
   "source": [
    "np_sigmoid(x)"
   ]
  },
  {
   "cell_type": "code",
   "execution_count": 32,
   "id": "6131680f",
   "metadata": {},
   "outputs": [
    {
     "name": "stdout",
     "output_type": "stream",
     "text": [
      "[0.73105858 0.88079708 0.95257413]\n"
     ]
    }
   ],
   "source": [
    "print(np_sigmoid(x))"
   ]
  },
  {
   "cell_type": "code",
   "execution_count": 33,
   "id": "44a8dfa7",
   "metadata": {},
   "outputs": [
    {
     "data": {
      "text/plain": [
       "array([0.19661193, 0.10499359, 0.04517666])"
      ]
     },
     "execution_count": 33,
     "metadata": {},
     "output_type": "execute_result"
    }
   ],
   "source": [
    "def gradient(x):\n",
    "    return np_sigmoid(x)*(1-np_sigmoid(x))\n",
    "gradient(x)"
   ]
  },
  {
   "cell_type": "code",
   "execution_count": 54,
   "id": "f821d94b",
   "metadata": {},
   "outputs": [],
   "source": [
    "def reshape_img(img):\n",
    "    print(img)\n",
    "    new_image=img.reshape(img.shape[0]*img.shape[1]*img.shape[2],1)\n",
    "    print(len(new_image))\n",
    "    return img.reshape(img.shape[0]*img.shape[1]*img.shape[2],1)"
   ]
  },
  {
   "cell_type": "code",
   "execution_count": 55,
   "id": "89e472be",
   "metadata": {},
   "outputs": [],
   "source": [
    "image=np.array([[[0.4235223, 0.52335345],\n",
    "                    [0.5325235, 0.52353235],\n",
    "                    [0.5453453, 0.54334634]],\n",
    "\n",
    "                   [[0.4235223, 0.52335345],\n",
    "                    [0.5325235, 0.52353235],\n",
    "                    [0.5453453, 0.54334634]],\n",
    "\n",
    "                   [[0.4235223, 0.52335345],\n",
    "                    [0.5325235, 0.52353235],\n",
    "                    [0.5453453, 0.54334634]]])"
   ]
  },
  {
   "cell_type": "code",
   "execution_count": 52,
   "id": "e3e5966b",
   "metadata": {},
   "outputs": [
    {
     "name": "stdout",
     "output_type": "stream",
     "text": [
      "3\n"
     ]
    }
   ],
   "source": [
    "print(image.shape[0])"
   ]
  },
  {
   "cell_type": "code",
   "execution_count": 56,
   "id": "914b0540",
   "metadata": {},
   "outputs": [
    {
     "name": "stdout",
     "output_type": "stream",
     "text": [
      "[[[0.4235223  0.52335345]\n",
      "  [0.5325235  0.52353235]\n",
      "  [0.5453453  0.54334634]]\n",
      "\n",
      " [[0.4235223  0.52335345]\n",
      "  [0.5325235  0.52353235]\n",
      "  [0.5453453  0.54334634]]\n",
      "\n",
      " [[0.4235223  0.52335345]\n",
      "  [0.5325235  0.52353235]\n",
      "  [0.5453453  0.54334634]]]\n",
      "18\n",
      "[[0.4235223 ]\n",
      " [0.52335345]\n",
      " [0.5325235 ]\n",
      " [0.52353235]\n",
      " [0.5453453 ]\n",
      " [0.54334634]\n",
      " [0.4235223 ]\n",
      " [0.52335345]\n",
      " [0.5325235 ]\n",
      " [0.52353235]\n",
      " [0.5453453 ]\n",
      " [0.54334634]\n",
      " [0.4235223 ]\n",
      " [0.52335345]\n",
      " [0.5325235 ]\n",
      " [0.52353235]\n",
      " [0.5453453 ]\n",
      " [0.54334634]]\n"
     ]
    }
   ],
   "source": [
    "print(reshape_img(image))"
   ]
  },
  {
   "cell_type": "code",
   "execution_count": 69,
   "id": "6677f5d9",
   "metadata": {},
   "outputs": [],
   "source": [
    "def normalised(x):\n",
    "    norm=np.linalg.norm(x,axis=1,keepdims=True)\n",
    "    return x/norm"
   ]
  },
  {
   "cell_type": "code",
   "execution_count": 73,
   "id": "1d6ef3a3",
   "metadata": {},
   "outputs": [
    {
     "name": "stdout",
     "output_type": "stream",
     "text": [
      "[[0.         0.99920096 0.03996804]\n",
      " [0.26726124 0.80178373 0.53452248]]\n"
     ]
    }
   ],
   "source": [
    "img=np.array([[0,100,4],[2,6,4]])\n",
    "print(normalised(img))"
   ]
  },
  {
   "cell_type": "code",
   "execution_count": 74,
   "id": "9592ae6a",
   "metadata": {},
   "outputs": [],
   "source": [
    "def softmax(x):\n",
    "    x=np.exp(x)\n",
    "    norm=np.linalg.norm(x,axis=1,keepdims=True)\n",
    "    return x/norm"
   ]
  },
  {
   "cell_type": "code",
   "execution_count": 82,
   "id": "78ae40c9",
   "metadata": {},
   "outputs": [],
   "source": [
    "x=[[9,2,5,0,0],\n",
    "   [7,5,0,0,0]]"
   ]
  },
  {
   "cell_type": "code",
   "execution_count": 83,
   "id": "bc14b4a0",
   "metadata": {},
   "outputs": [
    {
     "name": "stdout",
     "output_type": "stream",
     "text": [
      "[[9.99831880e-01 9.11728660e-04 1.83125597e-02 1.23389056e-04\n",
      "  1.23389056e-04]\n",
      " [9.90964875e-01 1.34112512e-01 9.03642998e-04 9.03642998e-04\n",
      "  9.03642998e-04]]\n"
     ]
    }
   ],
   "source": [
    "print(softmax(x))"
   ]
  },
  {
   "cell_type": "code",
   "execution_count": 94,
   "id": "987db3d1",
   "metadata": {},
   "outputs": [],
   "source": [
    "import time"
   ]
  },
  {
   "cell_type": "code",
   "execution_count": 113,
   "id": "289ee27e",
   "metadata": {},
   "outputs": [
    {
     "name": "stdout",
     "output_type": "stream",
     "text": [
      "Dot Product 44147 : Process Time 0.0000000 ms\n",
      "Dot 44147 : Process Time 0.0000000 ms\n"
     ]
    }
   ],
   "source": [
    "x=[1,5,3,2,3,4,5,3,2,3,5,2,4,5,32,53,2,34,2,35,2,5,234,53]\n",
    "y=[2,1,3,5,2,4,3,5,2,4,2,4,5,4,345,543,24,54,64,23,5,4,5,3]\n",
    "\n",
    "start_time=time.process_time()\n",
    "dot=0\n",
    "for i in range(len(x)):\n",
    "    dot+=x[i]*y[i]\n",
    "end_time=time.process_time()\n",
    "elapsed_time_ms = 1000 * (end_time - start_time)\n",
    "\n",
    "print(f\"Dot Product {dot} : Process Time {elapsed_time_ms:.7f} ms\")\n",
    "\n",
    "\n",
    "x=np.array([1,5,3,2,3,4,5,3,2,3,5,2,4,5,32,53,2,34,2,35,2,5,234,53])\n",
    "y=np.array([2,1,3,5,2,4,3,5,2,4,2,4,5,4,345,543,24,54,64,23,5,4,5,3])\n",
    "tic=time.process_time()\n",
    "dot=np.dot(x,y)\n",
    "toc=time.process_time()\n",
    "time_taken=1000*(toc-tic)\n",
    "print(f\"Dot {dot} : Process Time {time_taken:.7f} ms\")\n"
   ]
  }
 ],
 "metadata": {
  "kernelspec": {
   "display_name": "Python 3 (ipykernel)",
   "language": "python",
   "name": "python3"
  },
  "language_info": {
   "codemirror_mode": {
    "name": "ipython",
    "version": 3
   },
   "file_extension": ".py",
   "mimetype": "text/x-python",
   "name": "python",
   "nbconvert_exporter": "python",
   "pygments_lexer": "ipython3",
   "version": "3.11.3"
  }
 },
 "nbformat": 4,
 "nbformat_minor": 5
}
